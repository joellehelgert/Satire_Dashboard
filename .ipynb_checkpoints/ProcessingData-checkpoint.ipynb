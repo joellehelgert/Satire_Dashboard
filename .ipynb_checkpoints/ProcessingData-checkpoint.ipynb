{
 "cells": [
  {
   "cell_type": "code",
   "execution_count": 1,
   "metadata": {},
   "outputs": [
    {
     "name": "stdout",
     "output_type": "stream",
     "text": [
      "Requirement already satisfied: spacy in c:\\users\\joell\\anaconda3\\lib\\site-packages (2.3.2)\n",
      "Requirement already satisfied: srsly<1.1.0,>=1.0.2 in c:\\users\\joell\\anaconda3\\lib\\site-packages (from spacy) (1.0.4)\n",
      "Requirement already satisfied: blis<0.5.0,>=0.4.0 in c:\\users\\joell\\anaconda3\\lib\\site-packages (from spacy) (0.4.1)\n",
      "Requirement already satisfied: setuptools in c:\\users\\joell\\anaconda3\\lib\\site-packages (from spacy) (49.2.0.post20200714)\n",
      "Requirement already satisfied: requests<3.0.0,>=2.13.0 in c:\\users\\joell\\anaconda3\\lib\\site-packages (from spacy) (2.24.0)\n",
      "Requirement already satisfied: cymem<2.1.0,>=2.0.2 in c:\\users\\joell\\anaconda3\\lib\\site-packages (from spacy) (2.0.4)\n",
      "Requirement already satisfied: wasabi<1.1.0,>=0.4.0 in c:\\users\\joell\\anaconda3\\lib\\site-packages (from spacy) (0.8.0)\n",
      "Requirement already satisfied: numpy>=1.15.0 in c:\\users\\joell\\anaconda3\\lib\\site-packages (from spacy) (1.18.5)\n",
      "Requirement already satisfied: catalogue<1.1.0,>=0.0.7 in c:\\users\\joell\\anaconda3\\lib\\site-packages (from spacy) (1.0.0)\n",
      "Requirement already satisfied: murmurhash<1.1.0,>=0.28.0 in c:\\users\\joell\\anaconda3\\lib\\site-packages (from spacy) (1.0.4)\n",
      "Requirement already satisfied: tqdm<5.0.0,>=4.38.0 in c:\\users\\joell\\anaconda3\\lib\\site-packages (from spacy) (4.47.0)\n",
      "Requirement already satisfied: plac<1.2.0,>=0.9.6 in c:\\users\\joell\\anaconda3\\lib\\site-packages (from spacy) (1.1.3)\n",
      "Requirement already satisfied: preshed<3.1.0,>=3.0.2 in c:\\users\\joell\\anaconda3\\lib\\site-packages (from spacy) (3.0.4)\n",
      "Requirement already satisfied: thinc==7.4.1 in c:\\users\\joell\\anaconda3\\lib\\site-packages (from spacy) (7.4.1)\n",
      "Requirement already satisfied: chardet<4,>=3.0.2 in c:\\users\\joell\\anaconda3\\lib\\site-packages (from requests<3.0.0,>=2.13.0->spacy) (3.0.4)\n",
      "Requirement already satisfied: urllib3!=1.25.0,!=1.25.1,<1.26,>=1.21.1 in c:\\users\\joell\\anaconda3\\lib\\site-packages (from requests<3.0.0,>=2.13.0->spacy) (1.25.9)\n",
      "Requirement already satisfied: certifi>=2017.4.17 in c:\\users\\joell\\anaconda3\\lib\\site-packages (from requests<3.0.0,>=2.13.0->spacy) (2020.6.20)\n",
      "Requirement already satisfied: idna<3,>=2.5 in c:\\users\\joell\\anaconda3\\lib\\site-packages (from requests<3.0.0,>=2.13.0->spacy) (2.10)\n"
     ]
    }
   ],
   "source": [
    "!pip install spacy"
   ]
  },
  {
   "cell_type": "code",
   "execution_count": 2,
   "metadata": {},
   "outputs": [
    {
     "name": "stdout",
     "output_type": "stream",
     "text": [
      "Requirement already satisfied: de_core_news_sm==2.3.0 from https://github.com/explosion/spacy-models/releases/download/de_core_news_sm-2.3.0/de_core_news_sm-2.3.0.tar.gz#egg=de_core_news_sm==2.3.0 in c:\\users\\joell\\anaconda3\\lib\\site-packages (2.3.0)\n",
      "Requirement already satisfied: spacy<2.4.0,>=2.3.0 in c:\\users\\joell\\anaconda3\\lib\\site-packages (from de_core_news_sm==2.3.0) (2.3.2)\n",
      "Requirement already satisfied: preshed<3.1.0,>=3.0.2 in c:\\users\\joell\\anaconda3\\lib\\site-packages (from spacy<2.4.0,>=2.3.0->de_core_news_sm==2.3.0) (3.0.4)\n",
      "Requirement already satisfied: blis<0.5.0,>=0.4.0 in c:\\users\\joell\\anaconda3\\lib\\site-packages (from spacy<2.4.0,>=2.3.0->de_core_news_sm==2.3.0) (0.4.1)\n",
      "Requirement already satisfied: requests<3.0.0,>=2.13.0 in c:\\users\\joell\\anaconda3\\lib\\site-packages (from spacy<2.4.0,>=2.3.0->de_core_news_sm==2.3.0) (2.24.0)\n",
      "Requirement already satisfied: murmurhash<1.1.0,>=0.28.0 in c:\\users\\joell\\anaconda3\\lib\\site-packages (from spacy<2.4.0,>=2.3.0->de_core_news_sm==2.3.0) (1.0.4)\n",
      "Requirement already satisfied: thinc==7.4.1 in c:\\users\\joell\\anaconda3\\lib\\site-packages (from spacy<2.4.0,>=2.3.0->de_core_news_sm==2.3.0) (7.4.1)\n",
      "Requirement already satisfied: srsly<1.1.0,>=1.0.2 in c:\\users\\joell\\anaconda3\\lib\\site-packages (from spacy<2.4.0,>=2.3.0->de_core_news_sm==2.3.0) (1.0.4)\n",
      "Requirement already satisfied: wasabi<1.1.0,>=0.4.0 in c:\\users\\joell\\anaconda3\\lib\\site-packages (from spacy<2.4.0,>=2.3.0->de_core_news_sm==2.3.0) (0.8.0)\n",
      "Requirement already satisfied: setuptools in c:\\users\\joell\\anaconda3\\lib\\site-packages (from spacy<2.4.0,>=2.3.0->de_core_news_sm==2.3.0) (49.2.0.post20200714)\n",
      "Requirement already satisfied: tqdm<5.0.0,>=4.38.0 in c:\\users\\joell\\anaconda3\\lib\\site-packages (from spacy<2.4.0,>=2.3.0->de_core_news_sm==2.3.0) (4.47.0)\n",
      "Requirement already satisfied: numpy>=1.15.0 in c:\\users\\joell\\anaconda3\\lib\\site-packages (from spacy<2.4.0,>=2.3.0->de_core_news_sm==2.3.0) (1.18.5)\n",
      "Requirement already satisfied: cymem<2.1.0,>=2.0.2 in c:\\users\\joell\\anaconda3\\lib\\site-packages (from spacy<2.4.0,>=2.3.0->de_core_news_sm==2.3.0) (2.0.4)\n",
      "Requirement already satisfied: catalogue<1.1.0,>=0.0.7 in c:\\users\\joell\\anaconda3\\lib\\site-packages (from spacy<2.4.0,>=2.3.0->de_core_news_sm==2.3.0) (1.0.0)\n",
      "Requirement already satisfied: plac<1.2.0,>=0.9.6 in c:\\users\\joell\\anaconda3\\lib\\site-packages (from spacy<2.4.0,>=2.3.0->de_core_news_sm==2.3.0) (1.1.3)\n",
      "Requirement already satisfied: idna<3,>=2.5 in c:\\users\\joell\\anaconda3\\lib\\site-packages (from requests<3.0.0,>=2.13.0->spacy<2.4.0,>=2.3.0->de_core_news_sm==2.3.0) (2.10)\n",
      "Requirement already satisfied: certifi>=2017.4.17 in c:\\users\\joell\\anaconda3\\lib\\site-packages (from requests<3.0.0,>=2.13.0->spacy<2.4.0,>=2.3.0->de_core_news_sm==2.3.0) (2020.6.20)\n",
      "Requirement already satisfied: urllib3!=1.25.0,!=1.25.1,<1.26,>=1.21.1 in c:\\users\\joell\\anaconda3\\lib\\site-packages (from requests<3.0.0,>=2.13.0->spacy<2.4.0,>=2.3.0->de_core_news_sm==2.3.0) (1.25.9)\n",
      "Requirement already satisfied: chardet<4,>=3.0.2 in c:\\users\\joell\\anaconda3\\lib\\site-packages (from requests<3.0.0,>=2.13.0->spacy<2.4.0,>=2.3.0->de_core_news_sm==2.3.0) (3.0.4)\n",
      "[+] Download and installation successful\n",
      "You can now load the model via spacy.load('de_core_news_sm')\n"
     ]
    }
   ],
   "source": [
    "!python -m spacy download de_core_news_sm"
   ]
  },
  {
   "cell_type": "markdown",
   "metadata": {},
   "source": [
    "## Load packages"
   ]
  },
  {
   "cell_type": "code",
   "execution_count": 3,
   "metadata": {},
   "outputs": [],
   "source": [
    "import spacy\n",
    "from spacy import displacy\n",
    "import sqlite3\n",
    "import pandas as pd\n",
    "import matplotlib.pyplot as plt\n",
    "import numpy as np\n",
    "from operator import itemgetter\n",
    "import datetime as dt\n",
    "import matplotlib.dates as mdates\n",
    "import json"
   ]
  },
  {
   "cell_type": "code",
   "execution_count": 4,
   "metadata": {},
   "outputs": [],
   "source": [
    "nlp = spacy.load(\"de_core_news_sm\")"
   ]
  },
  {
   "cell_type": "markdown",
   "metadata": {},
   "source": [
    "## Conncet to database"
   ]
  },
  {
   "cell_type": "code",
   "execution_count": 5,
   "metadata": {
    "scrolled": true
   },
   "outputs": [
    {
     "name": "stdout",
     "output_type": "stream",
     "text": [
      "(25, 5)\n"
     ]
    },
    {
     "data": {
      "text/html": [
       "<div>\n",
       "<style scoped>\n",
       "    .dataframe tbody tr th:only-of-type {\n",
       "        vertical-align: middle;\n",
       "    }\n",
       "\n",
       "    .dataframe tbody tr th {\n",
       "        vertical-align: top;\n",
       "    }\n",
       "\n",
       "    .dataframe thead th {\n",
       "        text-align: right;\n",
       "    }\n",
       "</style>\n",
       "<table border=\"1\" class=\"dataframe\">\n",
       "  <thead>\n",
       "    <tr style=\"text-align: right;\">\n",
       "      <th></th>\n",
       "      <th>Titel</th>\n",
       "      <th>Body</th>\n",
       "      <th>Kategorie</th>\n",
       "      <th>Datum</th>\n",
       "      <th>Quelle</th>\n",
       "    </tr>\n",
       "    <tr>\n",
       "      <th>id</th>\n",
       "      <th></th>\n",
       "      <th></th>\n",
       "      <th></th>\n",
       "      <th></th>\n",
       "      <th></th>\n",
       "    </tr>\n",
       "  </thead>\n",
       "  <tbody>\n",
       "    <tr>\n",
       "      <th>289</th>\n",
       "      <td>Morgen in PamS: Der Brandstifter – Darum will ...</td>\n",
       "      <td>Außerdem in dieser Ausgabe:Leiden Sie unter Do...</td>\n",
       "      <td>PamS</td>\n",
       "      <td>2020-11-21 03:04:13</td>\n",
       "      <td>Postillon</td>\n",
       "    </tr>\n",
       "    <tr>\n",
       "      <th>290</th>\n",
       "      <td>Für dicke Kinder: Adventskalender jetzt auch m...</td>\n",
       "      <td>Villeneuve-d’Ascq (Archiv) - Die Vorfreude ste...</td>\n",
       "      <td>Ernährung</td>\n",
       "      <td>2020-11-21 00:58:30</td>\n",
       "      <td>Postillon</td>\n",
       "    </tr>\n",
       "    <tr>\n",
       "      <th>291</th>\n",
       "      <td>Glück muss man haben: Rentner hat Führerschein...</td>\n",
       "      <td>Stuttgart (Archiv) - Für Frührentner Peter Hei...</td>\n",
       "      <td>Panorama</td>\n",
       "      <td>2020-11-21 01:12:31</td>\n",
       "      <td>Postillon</td>\n",
       "    </tr>\n",
       "    <tr>\n",
       "      <th>292</th>\n",
       "      <td>Leserbriefe der Woche (KW 47/20)</td>\n",
       "      <td>Jede Woche erreichen die Postillon-Redaktion z...</td>\n",
       "      <td>Leserbriefe</td>\n",
       "      <td>2020-11-21 02:13:47</td>\n",
       "      <td>Postillon</td>\n",
       "    </tr>\n",
       "    <tr>\n",
       "      <th>293</th>\n",
       "      <td>Weil niemand da hinwill: TomTom löscht Saarlan...</td>\n",
       "      <td>Das hat eh nur unnötig Speicherplatz verbrauch...</td>\n",
       "      <td>Verkehr</td>\n",
       "      <td>2020-11-20 11:08:47</td>\n",
       "      <td>Postillon</td>\n",
       "    </tr>\n",
       "  </tbody>\n",
       "</table>\n",
       "</div>"
      ],
      "text/plain": [
       "                                                 Titel  \\\n",
       "id                                                       \n",
       "289  Morgen in PamS: Der Brandstifter – Darum will ...   \n",
       "290  Für dicke Kinder: Adventskalender jetzt auch m...   \n",
       "291  Glück muss man haben: Rentner hat Führerschein...   \n",
       "292                   Leserbriefe der Woche (KW 47/20)   \n",
       "293  Weil niemand da hinwill: TomTom löscht Saarlan...   \n",
       "\n",
       "                                                  Body    Kategorie  \\\n",
       "id                                                                    \n",
       "289  Außerdem in dieser Ausgabe:Leiden Sie unter Do...         PamS   \n",
       "290  Villeneuve-d’Ascq (Archiv) - Die Vorfreude ste...    Ernährung   \n",
       "291  Stuttgart (Archiv) - Für Frührentner Peter Hei...     Panorama   \n",
       "292  Jede Woche erreichen die Postillon-Redaktion z...  Leserbriefe   \n",
       "293  Das hat eh nur unnötig Speicherplatz verbrauch...      Verkehr   \n",
       "\n",
       "                   Datum     Quelle  \n",
       "id                                   \n",
       "289  2020-11-21 03:04:13  Postillon  \n",
       "290  2020-11-21 00:58:30  Postillon  \n",
       "291  2020-11-21 01:12:31  Postillon  \n",
       "292  2020-11-21 02:13:47  Postillon  \n",
       "293  2020-11-20 11:08:47  Postillon  "
      ]
     },
     "execution_count": 5,
     "metadata": {},
     "output_type": "execute_result"
    }
   ],
   "source": [
    "conn = sqlite3.connect('data/postillondata_clean.sqlite')\n",
    "cur = conn.cursor()\n",
    "\n",
    "df = pd.read_sql(\"SELECT id,Titel,Body,Kategorie,Datum,Quelle FROM Artikel WHERE Quelle ='Postillon'\", conn, index_col=\"id\", parse_dates=True)\n",
    "print(df.shape)\n",
    "df.head()"
   ]
  },
  {
   "cell_type": "code",
   "execution_count": 6,
   "metadata": {},
   "outputs": [
    {
     "data": {
      "text/plain": [
       "(25, 5)"
      ]
     },
     "execution_count": 6,
     "metadata": {},
     "output_type": "execute_result"
    }
   ],
   "source": [
    "df.shape"
   ]
  },
  {
   "cell_type": "markdown",
   "metadata": {},
   "source": [
    "## Save as csv"
   ]
  },
  {
   "cell_type": "code",
   "execution_count": 7,
   "metadata": {},
   "outputs": [],
   "source": [
    "df.to_csv(path_or_buf=\"data/news_en.csv\", sep=',',encoding='utf-8')"
   ]
  },
  {
   "cell_type": "markdown",
   "metadata": {},
   "source": [
    "## Count articles per day"
   ]
  },
  {
   "cell_type": "code",
   "execution_count": 8,
   "metadata": {},
   "outputs": [
    {
     "data": {
      "text/plain": [
       "{'2020-11-21': 4,\n",
       " '2020-11-20': 4,\n",
       " '2020-11-19': 2,\n",
       " '2020-11-18': 4,\n",
       " '2020-11-17': 2,\n",
       " '2020-11-16': 4,\n",
       " '2020-11-15': 2,\n",
       " '2020-11-14': 2,\n",
       " '2020-11-13': 1}"
      ]
     },
     "execution_count": 8,
     "metadata": {},
     "output_type": "execute_result"
    }
   ],
   "source": [
    "artikelliste={}\n",
    "\n",
    "for i in range(0, len(df)):\n",
    "    datum = df.iloc[i]['Datum']\n",
    "    datum = datum.split(\" \")[0]\n",
    "    \n",
    "    if datum in artikelliste:\n",
    "        artikelliste[datum] += 1\n",
    "    else:\n",
    "        artikelliste[datum] = 1\n",
    "artikelliste          "
   ]
  },
  {
   "cell_type": "code",
   "execution_count": 9,
   "metadata": {},
   "outputs": [
    {
     "name": "stdout",
     "output_type": "stream",
     "text": [
      "2020-11-13\n"
     ]
    },
    {
     "data": {
      "image/png": "[encoded data removed]",
      "text/plain": [
       "<Figure size 432x288 with 1 Axes>"
      ]
     },
     "metadata": {
      "needs_background": "light"
     },
     "output_type": "display_data"
    }
   ],
   "source": [
    "startdatum = \"2020-11-13\"\n",
    "enddatum = \"2020-11-21\"\n",
    "\n",
    "datelist = pd.date_range(start=startdatum, end=enddatum).tolist()\n",
    "datelist = pd.to_datetime((datelist))\n",
    "\n",
    "artikelliste0 =[]\n",
    "for date in datelist:\n",
    "    constraint = str(date).split()[0]\n",
    "    if constraint in artikelliste:\n",
    "        artikelliste0.append(artikelliste[constraint])\n",
    "    else:\n",
    "        artikelliste0.append(0)\n",
    "        \n",
    "tickslist = pd.date_range(start=startdatum, end=enddatum, freq='1D').tolist()\n",
    "\n",
    "plt.plot(datelist, artikelliste0, label=\"Article count\")\n",
    "print(startdatum)\n",
    "plt.axis([pd.to_datetime(startdatum), pd.to_datetime(enddatum), 0, max(artikelliste0)])\n",
    "\n",
    "plt.gca().xaxis.set_major_formatter(mdates.DateFormatter('%d-%m-%Y'))\n",
    "plt.xlabel('Date')\n",
    "plt.xticks(tickslist)\n",
    "plt.ylabel('Count')\n",
    "plt.suptitle('Articles per day')\n",
    "plt.gcf().autofmt_xdate()\n",
    "plt.legend()\n",
    "plt.savefig('./images/anzahl_en.png', dpi=300)\n",
    "plt.show()"
   ]
  },
  {
   "cell_type": "markdown",
   "metadata": {},
   "source": [
    "## Mark persons and organizations"
   ]
  },
  {
   "cell_type": "code",
   "execution_count": 10,
   "metadata": {},
   "outputs": [
    {
     "data": {
      "text/html": [
       "<span class=\"tex2jax_ignore\"><h2 style=\"margin: 0\">Persons in titel 0</h2>\n",
       "\n",
       "<div class=\"entities\" style=\"line-height: 2.5; direction: ltr\">Morgen in \n",
       "<mark class=\"entity\" style=\"background: red; padding: 0.45em 0.6em; margin: 0 0.25em; line-height: 1; border-radius: 0.35em;\">\n",
       "    PamS\n",
       "    <span style=\"font-size: 0.8em; font-weight: bold; line-height: 1; border-radius: 0.35em; text-transform: uppercase; vertical-align: middle; margin-left: 0.5rem\">ORG</span>\n",
       "</mark>\n",
       ": Der Brandstifter – Darum will Biden seine Wahlniederlage weiterhin nicht eingestehen</div></span>"
      ],
      "text/plain": [
       "<IPython.core.display.HTML object>"
      ]
     },
     "metadata": {},
     "output_type": "display_data"
    },
    {
     "data": {
      "text/html": [
       "<span class=\"tex2jax_ignore\"><h2 style=\"margin: 0\">Persons in titel 1</h2>\n",
       "\n",
       "<div class=\"entities\" style=\"line-height: 2.5; direction: ltr\">Für dicke Kinder: \n",
       "<mark class=\"entity\" style=\"background: #ddd; padding: 0.45em 0.6em; margin: 0 0.25em; line-height: 1; border-radius: 0.35em;\">\n",
       "    Adventskalender\n",
       "    <span style=\"font-size: 0.8em; font-weight: bold; line-height: 1; border-radius: 0.35em; text-transform: uppercase; vertical-align: middle; margin-left: 0.5rem\">PER</span>\n",
       "</mark>\n",
       " jetzt auch mit Gemüsefüllung</div></span>"
      ],
      "text/plain": [
       "<IPython.core.display.HTML object>"
      ]
     },
     "metadata": {},
     "output_type": "display_data"
    },
    {
     "data": {
      "text/html": [
       "<span class=\"tex2jax_ignore\"><h2 style=\"margin: 0\">Persons in titel 2</h2>\n",
       "\n",
       "<div class=\"entities\" style=\"line-height: 2.5; direction: ltr\">Glück muss man haben: \n",
       "<mark class=\"entity\" style=\"background: #ddd; padding: 0.45em 0.6em; margin: 0 0.25em; line-height: 1; border-radius: 0.35em;\">\n",
       "    Rentner\n",
       "    <span style=\"font-size: 0.8em; font-weight: bold; line-height: 1; border-radius: 0.35em; text-transform: uppercase; vertical-align: middle; margin-left: 0.5rem\">PER</span>\n",
       "</mark>\n",
       " hat Führerschein im Lotto gewonnen</div></span>"
      ],
      "text/plain": [
       "<IPython.core.display.HTML object>"
      ]
     },
     "metadata": {},
     "output_type": "display_data"
    },
    {
     "data": {
      "text/html": [
       "<span class=\"tex2jax_ignore\"><h2 style=\"margin: 0\">Persons in titel 3</h2>\n",
       "\n",
       "<div class=\"entities\" style=\"line-height: 2.5; direction: ltr\">Leserbriefe der Woche (KW 47/20)</div></span>"
      ],
      "text/plain": [
       "<IPython.core.display.HTML object>"
      ]
     },
     "metadata": {},
     "output_type": "display_data"
    },
    {
     "data": {
      "text/html": [
       "<span class=\"tex2jax_ignore\"><h2 style=\"margin: 0\">Persons in titel 4</h2>\n",
       "\n",
       "<div class=\"entities\" style=\"line-height: 2.5; direction: ltr\">Weil niemand da hinwill: TomTom löscht Saarland aus Navigationsgeräten [Video]</div></span>"
      ],
      "text/plain": [
       "<IPython.core.display.HTML object>"
      ]
     },
     "metadata": {},
     "output_type": "display_data"
    },
    {
     "data": {
      "text/html": [
       "<span class=\"tex2jax_ignore\"><h2 style=\"margin: 0\">Persons in titel 5</h2>\n",
       "\n",
       "<div class=\"entities\" style=\"line-height: 2.5; direction: ltr\">\n",
       "<mark class=\"entity\" style=\"background: #ddd; padding: 0.45em 0.6em; margin: 0 0.25em; line-height: 1; border-radius: 0.35em;\">\n",
       "    Vorbild Maskenverweigerer\n",
       "    <span style=\"font-size: 0.8em; font-weight: bold; line-height: 1; border-radius: 0.35em; text-transform: uppercase; vertical-align: middle; margin-left: 0.5rem\">PER</span>\n",
       "</mark>\n",
       ": 8 weitere Vorschriften, von denen Sie sich per Fake-Attest befreien lassen können</div></span>"
      ],
      "text/plain": [
       "<IPython.core.display.HTML object>"
      ]
     },
     "metadata": {},
     "output_type": "display_data"
    },
    {
     "data": {
      "text/html": [
       "<span class=\"tex2jax_ignore\"><h2 style=\"margin: 0\">Persons in titel 6</h2>\n",
       "\n",
       "<div class=\"entities\" style=\"line-height: 2.5; direction: ltr\">Abgeordnete nach Störaktion im \n",
       "<mark class=\"entity\" style=\"background: red; padding: 0.45em 0.6em; margin: 0 0.25em; line-height: 1; border-radius: 0.35em;\">\n",
       "    Bundestag\n",
       "    <span style=\"font-size: 0.8em; font-weight: bold; line-height: 1; border-radius: 0.35em; text-transform: uppercase; vertical-align: middle; margin-left: 0.5rem\">ORG</span>\n",
       "</mark>\n",
       " empört: &quot;Druck auf Politiker gehört nur durch Lobbyisten ausgeübt&quot;</div></span>"
      ],
      "text/plain": [
       "<IPython.core.display.HTML object>"
      ]
     },
     "metadata": {},
     "output_type": "display_data"
    },
    {
     "data": {
      "text/html": [
       "<span class=\"tex2jax_ignore\"><h2 style=\"margin: 0\">Persons in titel 7</h2>\n",
       "\n",
       "<div class=\"entities\" style=\"line-height: 2.5; direction: ltr\">\n",
       "<mark class=\"entity\" style=\"background: #ddd; padding: 0.45em 0.6em; margin: 0 0.25em; line-height: 1; border-radius: 0.35em;\">\n",
       "    Newsticker\n",
       "    <span style=\"font-size: 0.8em; font-weight: bold; line-height: 1; border-radius: 0.35em; text-transform: uppercase; vertical-align: middle; margin-left: 0.5rem\">PER</span>\n",
       "</mark>\n",
       " (1576)</div></span>"
      ],
      "text/plain": [
       "<IPython.core.display.HTML object>"
      ]
     },
     "metadata": {},
     "output_type": "display_data"
    },
    {
     "data": {
      "text/html": [
       "<span class=\"tex2jax_ignore\"><h2 style=\"margin: 0\">Persons in titel 8</h2>\n",
       "\n",
       "<div class=\"entities\" style=\"line-height: 2.5; direction: ltr\">Internet in Mecklenburg-Vorpommern wird von schwarz-weiß auf Farbe geschaltet</div></span>"
      ],
      "text/plain": [
       "<IPython.core.display.HTML object>"
      ]
     },
     "metadata": {},
     "output_type": "display_data"
    },
    {
     "data": {
      "text/html": [
       "<span class=\"tex2jax_ignore\"><h2 style=\"margin: 0\">Persons in titel 9</h2>\n",
       "\n",
       "<div class=\"entities\" style=\"line-height: 2.5; direction: ltr\">Endlich ein Lichtblick! Superreiche leiden kaum unter \n",
       "<mark class=\"entity\" style=\"background: #ddd; padding: 0.45em 0.6em; margin: 0 0.25em; line-height: 1; border-radius: 0.35em;\">\n",
       "    Corona-Pandemie\n",
       "    <span style=\"font-size: 0.8em; font-weight: bold; line-height: 1; border-radius: 0.35em; text-transform: uppercase; vertical-align: middle; margin-left: 0.5rem\">PER</span>\n",
       "</mark>\n",
       "</div></span>"
      ],
      "text/plain": [
       "<IPython.core.display.HTML object>"
      ]
     },
     "metadata": {},
     "output_type": "display_data"
    }
   ],
   "source": [
    "colors = {'ORG': 'red', 'PERSON':'yellow'}\n",
    "options = {'ents': ['ORG', 'PER'], 'colors': colors}\n",
    "for i in range(0, 10):\n",
    "    titel = df.iloc[i]['Titel']\n",
    "    body = df.iloc[i]['Body']\n",
    "    doc = nlp(titel)\n",
    "    doc.user_data['title'] = 'Persons in titel ' + str(i)\n",
    "    displacy.render(doc, style='ent', jupyter=True, options=options )"
   ]
  },
  {
   "cell_type": "code",
   "execution_count": 11,
   "metadata": {},
   "outputs": [
    {
     "data": {
      "text/html": [
       "<span class=\"tex2jax_ignore\"><h2 style=\"margin: 0\">Persons in text 0</h2>\n",
       "\n",
       "<div class=\"entities\" style=\"line-height: 2.5; direction: ltr\">Außerdem in dieser Ausgabe:\n",
       "<mark class=\"entity\" style=\"background: red; padding: 0.45em 0.6em; margin: 0 0.25em; line-height: 1; border-radius: 0.35em;\">\n",
       "    Leiden\n",
       "    <span style=\"font-size: 0.8em; font-weight: bold; line-height: 1; border-radius: 0.35em; text-transform: uppercase; vertical-align: middle; margin-left: 0.5rem\">PER</span>\n",
       "</mark>\n",
       " Sie unter Dornwarzen? \n",
       "<mark class=\"entity\" style=\"background: red; padding: 0.45em 0.6em; margin: 0 0.25em; line-height: 1; border-radius: 0.35em;\">\n",
       "    Nein\n",
       "    <span style=\"font-size: 0.8em; font-weight: bold; line-height: 1; border-radius: 0.35em; text-transform: uppercase; vertical-align: middle; margin-left: 0.5rem\">PER</span>\n",
       "</mark>\n",
       "? \n",
       "<mark class=\"entity\" style=\"background: red; padding: 0.45em 0.6em; margin: 0 0.25em; line-height: 1; border-radius: 0.35em;\">\n",
       "    Okay\n",
       "    <span style=\"font-size: 0.8em; font-weight: bold; line-height: 1; border-radius: 0.35em; text-transform: uppercase; vertical-align: middle; margin-left: 0.5rem\">PER</span>\n",
       "</mark>\n",
       ", dann hat sich das ja erledigt</br>  - Seite 24PamS-Chefredakteur im großen Chio-Chips-Talk: Darum ist \n",
       "<mark class=\"entity\" style=\"background: red; padding: 0.45em 0.6em; margin: 0 0.25em; line-height: 1; border-radius: 0.35em;\">\n",
       "    Product\n",
       "    <span style=\"font-size: 0.8em; font-weight: bold; line-height: 1; border-radius: 0.35em; text-transform: uppercase; vertical-align: middle; margin-left: 0.5rem\">PER</span>\n",
       "</mark>\n",
       " Placement in Printmagazinen nicht verwerflich\n",
       "  - Seite 31Ratgeber: Die 17 intelligentesten Hunderassen, die trotzdem nicht mal den Hauptschulabschluss schaffen - Seite\n",
       "  80Fotos: </div></span>"
      ],
      "text/plain": [
       "<IPython.core.display.HTML object>"
      ]
     },
     "metadata": {},
     "output_type": "display_data"
    },
    {
     "data": {
      "text/html": [
       "<span class=\"tex2jax_ignore\"><h2 style=\"margin: 0\">Persons in text 1</h2>\n",
       "\n",
       "<div class=\"entities\" style=\"line-height: 2.5; direction: ltr\">Villeneuve-d’Ascq (Archiv) - Die Vorfreude steigt: Pünktlich zur Weihnachtszeit bringt die französische Firma Bonduelle einen Adventskalender ohne süße Dickmacher auf den Markt. Stattdessen verbergen sich hinter den Türchen knackige Gemüsestückchen, darunter Karotten, Erbsen, Linsen sowie eine große grüne Überraschung hinter Tür 24. Der Gemüsekalender richtet sich speziell an die Eltern übergewichtiger Kinder, die ihre Sprösslinge gesund durch die Adventszeit bringen wollen.</br>&quot;Unsere Tests haben ergeben, dass sich Kinder über den Gemüse-Adventskalender genauso freuen wie über einen herkömmlichen&quot;, erklärt \n",
       "<mark class=\"entity\" style=\"background: red; padding: 0.45em 0.6em; margin: 0 0.25em; line-height: 1; border-radius: 0.35em;\">\n",
       "    Unternehmenssprecher Michel Lacoeur\n",
       "    <span style=\"font-size: 0.8em; font-weight: bold; line-height: 1; border-radius: 0.35em; text-transform: uppercase; vertical-align: middle; margin-left: 0.5rem\">PER</span>\n",
       "</mark>\n",
       ". &quot;Zugegeben: Nachdem sie die ersten Türchen geöffnet haben, lässt die Euphorie beim einen oder anderen Kind ein klein wenig nach, aber dafür ist der Inhalt so richtig gesund!&quot;</br>Und abwechslungsreich: Hinter Tür 1 wartet eine Mini-Karotte, hinter Tür 2 leckerer Broccoli. Hinter Tür 3 befindet sich ein Stück Kohlrabi, hinter Tür 4 verbirgt sich ein Stück Paprika. Mehr will der Hersteller noch nicht verraten. &quot;Aber wer weiß&quot;, sagt \n",
       "<mark class=\"entity\" style=\"background: red; padding: 0.45em 0.6em; margin: 0 0.25em; line-height: 1; border-radius: 0.35em;\">\n",
       "    Unternehmenssprecher Michel Lacoeur\n",
       "    <span style=\"font-size: 0.8em; font-weight: bold; line-height: 1; border-radius: 0.35em; text-transform: uppercase; vertical-align: middle; margin-left: 0.5rem\">PER</span>\n",
       "</mark>\n",
       " mit einem Augenzwinkern. &quot;Vielleicht finden die kleinen Schleckermäuler hinter \n",
       "<mark class=\"entity\" style=\"background: red; padding: 0.45em 0.6em; margin: 0 0.25em; line-height: 1; border-radius: 0.35em;\">\n",
       "    Tor\n",
       "    <span style=\"font-size: 0.8em; font-weight: bold; line-height: 1; border-radius: 0.35em; text-transform: uppercase; vertical-align: middle; margin-left: 0.5rem\">PER</span>\n",
       "</mark>\n",
       " 24 zur Feier des Tages ja sogar ein Stück Obst.&quot;\n",
       "Der neue Kalender hat offenbar das Zeug zum echten Weihnachts-Hit: Viele Testkinder fanden den Inhalt der Türen &quot;so toll&quot;, dass sie ihn lieber ins Regal stellten, als ihn direkt wegzunaschen – als Erinnerung an ihr &quot;super Geschenk&quot;.\n",
       "swo, ssi; Foto: /; Erstveröffentlichung: 16.11.17</div></span>"
      ],
      "text/plain": [
       "<IPython.core.display.HTML object>"
      ]
     },
     "metadata": {},
     "output_type": "display_data"
    }
   ],
   "source": [
    "colors = { 'PER':'red'}\n",
    "options = {'ents': [ 'PER'], 'colors': colors}\n",
    "for i in range(0, 2):\n",
    "    body = df.iloc[i]['Body']\n",
    "    doc = nlp(body)\n",
    "    doc.user_data['title'] = 'Persons in text ' + str(i)\n",
    "    displacy.render(doc, style='ent', jupyter=True, options=options)"
   ]
  },
  {
   "cell_type": "markdown",
   "metadata": {},
   "source": [
    "## Build list of person counts"
   ]
  },
  {
   "cell_type": "code",
   "execution_count": 12,
   "metadata": {},
   "outputs": [],
   "source": [
    "personenliste=dict()\n",
    "\n",
    "for i in range(0, len(df)):\n",
    "    body = df.iloc[i]['Body']\n",
    "    titel = df.iloc[i]['Titel']\n",
    "    doc = nlp(titel + \"\\n\" + body)\n",
    "    for ent in doc.ents:\n",
    "        if ent.label_ == 'PER':\n",
    "            if ent.text in personenliste:\n",
    "                personenliste[ent.text] += 1\n",
    "            else:\n",
    "                personenliste[ent.text] = 1"
   ]
  },
  {
   "cell_type": "code",
   "execution_count": 13,
   "metadata": {},
   "outputs": [
    {
     "data": {
      "text/plain": [
       "{'Product': 1,\n",
       " 'Adventskalender': 1,\n",
       " 'Unternehmenssprecher Michel Lacoeur': 2,\n",
       " 'Tor': 1,\n",
       " 'Rentner': 1,\n",
       " 'Peter Heinzig': 2,\n",
       " 'Heinzig': 1,\n",
       " 'Besteckset': 1,\n",
       " 'Fahranfänger': 1,\n",
       " 'Martin Neustadt': 1,\n",
       " 'Peter Maszlen': 1,\n",
       " 'Impfgegner': 2,\n",
       " 'Notfalls': 1,\n",
       " 'Matrix-Party': 1,\n",
       " 'Merkel': 2,\n",
       " 'Feedback': 2,\n",
       " 'Donald Trump': 4,\n",
       " 'Wasserwerfer': 3,\n",
       " 'Vorbild Maskenverweigerer': 1,\n",
       " 'Fake-Atteste': 1,\n",
       " 'Wedeln': 1,\n",
       " 'Heinz': 1,\n",
       " 'Wolfgang Schäuble': 1,\n",
       " 'Handwerker': 1,\n",
       " 'Vatikandiener': 1,\n",
       " 'Bayer': 1,\n",
       " 'Landesverkehrsminister Christian Pegel': 1,\n",
       " 'Internetnutzer': 1,\n",
       " 'Corona-Pandemie\\n\\n': 1,\n",
       " 'Gesellschaftsforscher Frederik Bertold': 1,\n",
       " 'Bertold': 1,\n",
       " 'Reichensteuer': 1,\n",
       " 'Running Gags': 1,\n",
       " 'Manuel Friedrich': 1,\n",
       " 'Judith Raupach': 1,\n",
       " 'woanders': 1,\n",
       " 'Vorbild Trump': 1,\n",
       " 'Löw': 4,\n",
       " 'Jogi Löw': 1,\n",
       " 'Fake Schiri': 1,\n",
       " 'Mann': 1,\n",
       " 'Querlenker': 1,\n",
       " \"gibt's\": 1,\n",
       " 'Herbert Schreiter': 1,\n",
       " 'Andi Scheuer': 1,\n",
       " 'Angela Merkel': 2,\n",
       " 'Felix Rosenberg': 1,\n",
       " 'Berechnungen': 1,\n",
       " 'Jens Spahn': 1,\n",
       " 'Spahn': 2,\n",
       " 'Corona': 2,\n",
       " 'Laubbläser-Besitzer': 1,\n",
       " 'Felix Westrich': 1,\n",
       " 'mir locker': 1,\n",
       " 'Laub': 1,\n",
       " \"würd's\": 1,\n",
       " 'Foto': 1,\n",
       " 'Eisbär': 1,\n",
       " 'Wildpinkler': 1,\n",
       " 'Krämpfe': 1,\n",
       " 'Ärger': 1,\n",
       " 'gefällt.7.': 1,\n",
       " 'Fehler': 1,\n",
       " 'Johann Strauss': 1,\n",
       " 'György Ligeti': 1,\n",
       " 'Joe Biden': 1,\n",
       " 'Concession Control': 1,\n",
       " 'Corona-Impfstoff': 1,\n",
       " 'Trump': 1,\n",
       " 'Querdenker': 1,\n",
       " 'Huhn': 1,\n",
       " 'Berta': 1}"
      ]
     },
     "execution_count": 13,
     "metadata": {},
     "output_type": "execute_result"
    }
   ],
   "source": [
    "personenliste"
   ]
  },
  {
   "cell_type": "markdown",
   "metadata": {},
   "source": [
    "## Save countlist"
   ]
  },
  {
   "cell_type": "code",
   "execution_count": 14,
   "metadata": {},
   "outputs": [],
   "source": [
    "import json\n",
    "json = json.dumps(personenliste)\n",
    "f = open(\"data/personenliste_en.json\",\"w\")\n",
    "f.write(json)\n",
    "f.close()"
   ]
  },
  {
   "cell_type": "markdown",
   "metadata": {},
   "source": [
    "## Clean list"
   ]
  },
  {
   "cell_type": "code",
   "execution_count": 15,
   "metadata": {},
   "outputs": [],
   "source": [
    "def cleandict_en(inputdict):\n",
    "    \n",
    "    dict2 = inputdict.copy()\n",
    "    for key in inputdict.keys(): \n",
    "        if key.startswith(\"\\\\\"):\n",
    "            del dict2[key]\n",
    "        if key.strip() == \"\":\n",
    "            del dict2[key]\n",
    "        if key.strip() == \"Verwandte ThemenFactbox\":\n",
    "            del dict2[key]\n",
    "        if key.strip() == \"Sgt\":\n",
    "            del dict2[key]\n",
    "        \n",
    "    return dict2"
   ]
  },
  {
   "cell_type": "code",
   "execution_count": 16,
   "metadata": {},
   "outputs": [],
   "source": [
    "personenclean = cleandict_en(personenliste)"
   ]
  },
  {
   "cell_type": "markdown",
   "metadata": {},
   "source": [
    "## Map personnames together (i.e. \"Donald Trump\" and \"Trump\")"
   ]
  },
  {
   "cell_type": "code",
   "execution_count": 17,
   "metadata": {},
   "outputs": [],
   "source": [
    "def listekompakt(inputdict):\n",
    "    outputdict = {}\n",
    "\n",
    "    for name, num in inputdict.items():\n",
    "        for key in inputdict.keys():            \n",
    "            if (name == key):\n",
    "                continue\n",
    "            if (name in key) and (inputdict[name] > 5):\n",
    "                inputdict[name] += num\n",
    "                inputdict[key] = 0\n",
    "                break\n",
    "    for name, num  in inputdict.items():\n",
    "        if num > 0:\n",
    "            outputdict[name] = num\n",
    "    return outputdict"
   ]
  },
  {
   "cell_type": "code",
   "execution_count": 18,
   "metadata": {},
   "outputs": [],
   "source": [
    "personenkompakt = listekompakt(personenclean)"
   ]
  },
  {
   "cell_type": "code",
   "execution_count": 19,
   "metadata": {},
   "outputs": [],
   "source": [
    "import json\n",
    "json = json.dumps(personenkompakt)\n",
    "f = open(\"data/personenliste_en_clean.json\",\"w\")\n",
    "f.write(json)\n",
    "f.close()"
   ]
  },
  {
   "cell_type": "markdown",
   "metadata": {},
   "source": [
    "## Barchart of sortet counts"
   ]
  },
  {
   "cell_type": "code",
   "execution_count": 20,
   "metadata": {},
   "outputs": [
    {
     "data": {
      "image/png": "[encoded data removed]",
      "text/plain": [
       "<Figure size 432x288 with 1 Axes>"
      ]
     },
     "metadata": {
      "needs_background": "light"
     },
     "output_type": "display_data"
    }
   ],
   "source": [
    "personen = sorted(personenkompakt.items(), key=itemgetter(1),reverse=True)\n",
    "\n",
    "names = list(zip(*personen))[0][0:40]\n",
    "values = list(zip(*personen))[1][0:40]\n",
    "x_pos = np.arange(len(names)) \n",
    "\n",
    "plt.xticks(rotation='vertical')\n",
    "plt.subplots_adjust(bottom=0.2)\n",
    "plt.bar(x_pos, values)\n",
    "plt.xticks(x_pos, names) \n",
    "plt.suptitle('Persons in the News')\n",
    "plt.savefig('./images/hauefigkeit_news_en.png', dpi=300)\n",
    "plt.show()"
   ]
  },
  {
   "cell_type": "markdown",
   "metadata": {},
   "source": [
    "## Build list of counts per day"
   ]
  },
  {
   "cell_type": "code",
   "execution_count": 21,
   "metadata": {},
   "outputs": [],
   "source": [
    "datumliste={}\n",
    "\n",
    "for i in range(0, len(df)):\n",
    "    body = df.iloc[i]['Body']\n",
    "    titel = df.iloc[i]['Titel']\n",
    "    datum = df.iloc[i]['Datum']\n",
    "    datum = datum.split(\" \")[0]\n",
    "    doc = nlp(titel + \"\\n\" + body)\n",
    "    for ent in doc.ents:\n",
    "        if ent.label_ == 'PER':\n",
    "            if ent.text in datumliste:\n",
    "                if datum in datumliste[ent.text]:\n",
    "                    datumliste[ent.text][datum] += 1\n",
    "                else:\n",
    "                    datumliste[ent.text][datum] = 1\n",
    "            else:\n",
    "                datumliste[ent.text] = {}\n",
    "                datumliste[ent.text][datum] = 1"
   ]
  },
  {
   "cell_type": "code",
   "execution_count": 22,
   "metadata": {},
   "outputs": [
    {
     "data": {
      "text/plain": [
       "{'Product': {'2020-11-21': 1},\n",
       " 'Adventskalender': {'2020-11-21': 1},\n",
       " 'Unternehmenssprecher Michel Lacoeur': {'2020-11-21': 2},\n",
       " 'Tor': {'2020-11-21': 1},\n",
       " 'Rentner': {'2020-11-21': 1},\n",
       " 'Peter Heinzig': {'2020-11-21': 2},\n",
       " 'Heinzig': {'2020-11-21': 1},\n",
       " 'Besteckset': {'2020-11-21': 1},\n",
       " 'Fahranfänger': {'2020-11-21': 1},\n",
       " 'Martin Neustadt': {'2020-11-21': 1},\n",
       " 'Peter Maszlen': {'2020-11-21': 1},\n",
       " 'Impfgegner': {'2020-11-21': 1, '2020-11-16': 1},\n",
       " 'Notfalls': {'2020-11-21': 1},\n",
       " 'Matrix-Party': {'2020-11-21': 1},\n",
       " 'Merkel': {'2020-11-21': 1, '2020-11-16': 1},\n",
       " 'Feedback': {'2020-11-21': 1, '2020-11-14': 1},\n",
       " 'Donald Trump': {'2020-11-21': 1, '2020-11-15': 3},\n",
       " 'Wasserwerfer': {'2020-11-21': 1, '2020-11-18': 2},\n",
       " 'Vorbild Maskenverweigerer': {'2020-11-20': 1},\n",
       " 'Fake-Atteste': {'2020-11-20': 1},\n",
       " 'Wedeln': {'2020-11-20': 1},\n",
       " 'Heinz': {'2020-11-20': 1},\n",
       " 'Wolfgang Schäuble': {'2020-11-20': 1},\n",
       " 'Handwerker': {'2020-11-20': 1},\n",
       " 'Vatikandiener': {'2020-11-20': 1},\n",
       " 'Bayer': {'2020-11-20': 1},\n",
       " 'Landesverkehrsminister Christian Pegel': {'2020-11-19': 1},\n",
       " 'Internetnutzer': {'2020-11-19': 1},\n",
       " 'Corona-Pandemie\\n\\n': {'2020-11-19': 1},\n",
       " 'Gesellschaftsforscher Frederik Bertold': {'2020-11-19': 1},\n",
       " 'Bertold': {'2020-11-19': 1},\n",
       " 'Reichensteuer': {'2020-11-19': 1},\n",
       " 'Running Gags': {'2020-11-19': 1},\n",
       " 'Manuel Friedrich': {'2020-11-18': 1},\n",
       " 'Judith Raupach': {'2020-11-18': 1},\n",
       " 'woanders': {'2020-11-18': 1},\n",
       " 'Vorbild Trump': {'2020-11-18': 1},\n",
       " 'Löw': {'2020-11-18': 4},\n",
       " 'Jogi Löw': {'2020-11-18': 1},\n",
       " 'Fake Schiri': {'2020-11-18': 1},\n",
       " 'Mann': {'2020-11-18': 1},\n",
       " 'Querlenker': {'2020-11-17': 1},\n",
       " \"gibt's\": {'2020-11-17': 1},\n",
       " 'Herbert Schreiter': {'2020-11-17': 1},\n",
       " 'Andi Scheuer': {'2020-11-17': 1},\n",
       " 'Angela Merkel': {'2020-11-17': 1, '2020-11-16': 1},\n",
       " 'Felix Rosenberg': {'2020-11-17': 1},\n",
       " 'Berechnungen': {'2020-11-17': 1},\n",
       " 'Jens Spahn': {'2020-11-16': 1},\n",
       " 'Spahn': {'2020-11-16': 2},\n",
       " 'Corona': {'2020-11-16': 2},\n",
       " 'Laubbläser-Besitzer': {'2020-11-16': 1},\n",
       " 'Felix Westrich': {'2020-11-16': 1},\n",
       " 'mir locker': {'2020-11-16': 1},\n",
       " 'Laub': {'2020-11-16': 1},\n",
       " \"würd's\": {'2020-11-16': 1},\n",
       " 'Foto': {'2020-11-16': 1},\n",
       " 'Eisbär': {'2020-11-16': 1},\n",
       " 'Wildpinkler': {'2020-11-16': 1},\n",
       " 'Krämpfe': {'2020-11-15': 1},\n",
       " 'Ärger': {'2020-11-15': 1},\n",
       " 'gefällt.7.': {'2020-11-15': 1},\n",
       " 'Fehler': {'2020-11-15': 1},\n",
       " 'Johann Strauss': {'2020-11-15': 1},\n",
       " 'György Ligeti': {'2020-11-15': 1},\n",
       " 'Joe Biden': {'2020-11-15': 1},\n",
       " 'Concession Control': {'2020-11-15': 1},\n",
       " 'Corona-Impfstoff': {'2020-11-14': 1},\n",
       " 'Trump': {'2020-11-14': 1},\n",
       " 'Querdenker': {'2020-11-14': 1},\n",
       " 'Huhn': {'2020-11-13': 1},\n",
       " 'Berta': {'2020-11-13': 1}}"
      ]
     },
     "execution_count": 22,
     "metadata": {},
     "output_type": "execute_result"
    }
   ],
   "source": [
    "datumliste"
   ]
  },
  {
   "cell_type": "code",
   "execution_count": 23,
   "metadata": {},
   "outputs": [],
   "source": [
    "import json\n",
    "json = json.dumps(datumliste)\n",
    "f = open(\"data/datumliste_en.json\",\"w\")\n",
    "f.write(json)\n",
    "f.close()"
   ]
  },
  {
   "cell_type": "markdown",
   "metadata": {},
   "source": [
    "## Map personlists together (i.e. \"Donald Trump\" and \"Trump\")"
   ]
  },
  {
   "cell_type": "code",
   "execution_count": 24,
   "metadata": {},
   "outputs": [],
   "source": [
    "def uniondict(dict1,dict2):\n",
    "    returndict ={}\n",
    "    \n",
    "    allkeys = list(set(list(dict1.keys()) + list(dict2.keys())))\n",
    "    allvalues = [0] * len(allkeys)\n",
    "    for i in range(len(allkeys)):\n",
    "        returndict[allkeys[i]] = allvalues[i]\n",
    "    \n",
    "    for key1, value1 in dict1.items():\n",
    "        returndict[key1] += value1\n",
    "    for key2, value2 in dict2.items():\n",
    "        returndict[key2] += value2\n",
    "                \n",
    "    return returndict"
   ]
  },
  {
   "cell_type": "code",
   "execution_count": 25,
   "metadata": {},
   "outputs": [],
   "source": [
    "def datekompakt(inputdict):\n",
    "    outputdict = {}\n",
    "\n",
    "    for name, datelist in inputdict.items():\n",
    "        for key in inputdict.keys():\n",
    "            if (name == key):\n",
    "                continue\n",
    "            if (name in key) and (len(inputdict[name]) > 3):\n",
    "                inputdict[name] = uniondict(inputdict[key],datelist)\n",
    "                inputdict[key] = {}\n",
    "                break\n",
    "    for name, datelist  in inputdict.items():\n",
    "        if datelist != {}:      \n",
    "            outputdict[name] = datelist\n",
    "    return outputdict"
   ]
  },
  {
   "cell_type": "markdown",
   "metadata": {},
   "source": [
    "## Clean lists"
   ]
  },
  {
   "cell_type": "code",
   "execution_count": 26,
   "metadata": {},
   "outputs": [],
   "source": [
    "datumclean= cleandict_en(datumliste)"
   ]
  },
  {
   "cell_type": "code",
   "execution_count": 27,
   "metadata": {},
   "outputs": [],
   "source": [
    "datumkompakt = datekompakt(datumclean)"
   ]
  },
  {
   "cell_type": "code",
   "execution_count": 28,
   "metadata": {},
   "outputs": [],
   "source": [
    "import json\n",
    "json = json.dumps(datumkompakt)\n",
    "f = open(\"data/datumliste_en_clean.json\",\"w\")\n",
    "f.write(json)\n",
    "f.close()"
   ]
  },
  {
   "cell_type": "markdown",
   "metadata": {},
   "source": [
    "## Lineplots for persons"
   ]
  },
  {
   "cell_type": "code",
   "execution_count": 29,
   "metadata": {},
   "outputs": [],
   "source": [
    "def namenplot(name1, name2, startdatum, enddatum, frequenz, savepfad):\n",
    "    dict1 = datumkompakt[name1]\n",
    "    dict2 = datumkompakt[name2]\n",
    "\n",
    "    datelist = pd.date_range(start=startdatum, end=enddatum).tolist()\n",
    "    datelist = pd.to_datetime((datelist))\n",
    "\n",
    "    y_name1 =[]\n",
    "    y_name2 =[]\n",
    "    for date in datelist:\n",
    "        if str(date).split()[0] in dict1:\n",
    "            y_name1.append(dict1[str(date).split()[0]])\n",
    "        else:\n",
    "            y_name1.append(0)\n",
    "        if str(date).split()[0] in dict2:\n",
    "            y_name2.append(dict2[str(date).split()[0]])\n",
    "        else:\n",
    "            y_name2.append(0)\n",
    "\n",
    "    tickslist = pd.date_range(start=startdatum, end=enddatum, freq=frequenz).tolist()\n",
    "\n",
    "    plt.plot(datelist, y_name1,label=name1)\n",
    "    plt.plot(datelist, y_name2,linestyle='--',label=name2)\n",
    "    max1 = max(y_name1)\n",
    "    max2 = max(y_name2)\n",
    "    plt.axis([startdatum, enddatum, 0, max([max1,max2])+3])\n",
    "\n",
    "    plt.gca().xaxis.set_major_formatter(mdates.DateFormatter('%d-%m-%Y'))\n",
    "    plt.xlabel('Date')\n",
    "    plt.xticks(tickslist)\n",
    "    plt.ylabel('Frequecy')\n",
    "    plt.suptitle('Mentions in the news ' + name1 + \" and \" + name2)\n",
    "    plt.gcf().autofmt_xdate()\n",
    "    plt.legend()\n",
    "    plt.savefig(savepfad, dpi=300)\n",
    "    plt.show()"
   ]
  },
  {
   "cell_type": "code",
   "execution_count": null,
   "metadata": {
    "scrolled": true
   },
   "outputs": [],
   "source": []
  }
 ],
 "metadata": {
  "kernelspec": {
   "display_name": "Python 3",
   "language": "python",
   "name": "python3"
  },
  "language_info": {
   "codemirror_mode": {
    "name": "ipython",
    "version": 3
   },
   "file_extension": ".py",
   "mimetype": "text/x-python",
   "name": "python",
   "nbconvert_exporter": "python",
   "pygments_lexer": "ipython3",
   "version": "3.8.3"
  }
 },
 "nbformat": 4,
 "nbformat_minor": 2
}
